{
 "cells": [
  {
   "cell_type": "code",
   "execution_count": 2,
   "metadata": {},
   "outputs": [],
   "source": [
    "import math\n",
    "from jarak_logic import hitung_jarak_dari_tempat\n",
    "import pandas as pd\n"
   ]
  },
  {
   "cell_type": "code",
   "execution_count": null,
   "metadata": {},
   "outputs": [],
   "source": [
    "# # Mendefinisikan koordinat untuk tempat-tempat populer\n",
    "# lokasi_populer = {\n",
    "#     \"Jalan Malioboro\": (-7.7928, 110.3658), \n",
    "#     \"Prawirotaman\": (-7.8190, 110.3706),  \n",
    "#     \"Alun-Alun Kidul\": (-7.8117, 110.3632),  \n",
    "#     \"Alun-Alun Lor\" : (-7.8036, 110.3643),\n",
    "#     \"Tugu Yogyakarta\": (-7.7828, 110.3670), \n",
    "#     \"Pasar Beringharjo\": (-7.7985, 110.3657),\n",
    "#     \"Museum Affandi\" : (-7.7826, 110.3964),\n",
    "#     \"Kebun Binatang Gembira Loka\" : (-7.8059, 110.3966),\n",
    "#     \"Jogja National Museum\" : (-7.7998, 110.3533),\n",
    "#     \"Titik Nol Kilometer\" : (-7.8011, 110.3647),\n",
    "#     \"Taman Pintar Yogyakarta\" : (-7.8004, 110.3676),\n",
    "#     \"Jalan Sosrowijayan\" : (-7.7913, 110.3637),\n",
    "#     \"Jalan Prawirotaman II\" : (-7.8200, 110.3707),\n",
    "#     \"Stasiun Tugu Yogyakarta\" : (-7.7890, 110.3629), \n",
    "#     \"Jalan Kaliurang\" : (-7.7110, 110.4082),\n",
    "#     \"Jalan Magelang\" : (-7.7418, 110.3626),\n",
    "#     \"Jalan Solo\" : (-7.7667, 110.4715),\n",
    "#     \"Jalan Affandi\" : (-7.7694, 110.3901),\n",
    "#     \"Stasiun Lempuyangan\" : (-7.7902, 110.3754),\n",
    "#     \"Bandara Adisucipto\" : (-7.7887, 110.4305)\n",
    "# }\n",
    "\n",
    "# # Mendefinisikan koordinat untuk tempat wisata\n",
    "# tempat_wisata = {\n",
    "#     \"Keraton Kotagede\": (-7.82969, 110.39771),\n",
    "#     \"Keraton Ngayogyakarta Hadiningrat\": (-7.80506, 110.36420),\n",
    "#     \"Situs Taman Sari\": (-7.80991, 110.35953),\n",
    "#     \"Situs Warungboto\": (-7.80913, 110.39319),\n",
    "#     \"Kelenteng Fuk Ling Miau\": (-7.80112, 110.36961),\n",
    "#     \"Museum Sasmitaloka Panglima Besar Jenderal Soedirman\": (-7.80211, 110.37547),\n",
    "#     \"Museum Benteng Vredeburg\": (-7.79957, 110.36612),\n",
    "#     \"Monumen Yogya Kembali\": (-7.74870, 110.36965),\n",
    "#     \"Monumen Serangan Umum Satu Maret\": (-7.80048, 110.36522),\n",
    "#     \"Museum Kereta\": (-7.80474, 110.36285)\n",
    "# }"
   ]
  },
  {
   "cell_type": "code",
   "execution_count": null,
   "metadata": {},
   "outputs": [],
   "source": [
    "# R = 6371  # Radius Bumi dalam kilometer\n",
    "#     dLat = math.radians(lat2 - lat1)\n",
    "#     dLon = math.radians(lon2 - lon1)\n",
    "#     a = math.sin(dLat/2)**2 + math.cos(math.radians(lat1)) * math.cos(math.radians(lat2)) * math.sin(dLon/2)**2\n",
    "#     c = 2 * math.atan2(math.sqrt(a), math.sqrt(1-a))\n",
    "#     distance = R * c"
   ]
  },
  {
   "cell_type": "code",
   "execution_count": 3,
   "metadata": {},
   "outputs": [],
   "source": [
    "R = 6371\n",
    "lat1 = -7.7887\n",
    "lat2 = -7.8105\n",
    "lon1 = 110.4305\n",
    "lon2 = 110.3913\n",
    "dLat = math.radians(lat2 - lat1)\n",
    "dLon = math.radians(lon2 - lon1)\n",
    "a = math.sin(dLat/2)**2 + math.cos(math.radians(lat1)) * math.cos(math.radians(lat2)) * math.sin(dLon/2)**2\n",
    "sin1 = math.sin(dLat/2)**2\n",
    "cos1 = math.cos(math.radians(lat1))\n",
    "cos2 = math.cos(math.radians(lat2))\n",
    "cos3 = math.sin(dLon/2)**2\n",
    "c = 2 * math.atan2(math.sqrt(a), math.sqrt(1-a))\n",
    "atan1 = math.atan2(math.sqrt(a), math.sqrt(1-a))\n",
    "a1 = math.sqrt(a)\n",
    "a2 = math.sqrt(1-a)\n",
    "d=R*c"
   ]
  },
  {
   "cell_type": "code",
   "execution_count": 4,
   "metadata": {},
   "outputs": [
    {
     "name": "stdout",
     "output_type": "stream",
     "text": [
      "-0.00038048177693476067\n",
      "-0.0006841690667816708\n",
      "1.5105824228480602e-07\n",
      "3.619159520824771e-08\n",
      "0.9907745873274226\n",
      "0.9907229526572655\n",
      "1.1702182342052291e-07\n",
      "c =  0.0007773242563846935\n",
      "0.0003886621281923467\n",
      "0.00038866211840724333\n",
      "0.999999924470876\n",
      "4.952332837426882\n"
     ]
    }
   ],
   "source": [
    "print(dLat)\n",
    "print(dLon)\n",
    "print(a)\n",
    "print(sin1)\n",
    "print(cos1)\n",
    "print(cos2)\n",
    "print(cos3)\n",
    "print(\"c = \", c)\n",
    "print(atan1)\n",
    "print(a1)\n",
    "print(a2)\n",
    "print(d)\n"
   ]
  },
  {
   "cell_type": "code",
   "execution_count": 31,
   "metadata": {},
   "outputs": [
    {
     "data": {
      "text/plain": [
       "1.1071487177940904"
      ]
     },
     "execution_count": 31,
     "metadata": {},
     "output_type": "execute_result"
    }
   ],
   "source": [
    "atan = math.atan2(2,1)\n",
    "atan"
   ]
  }
 ],
 "metadata": {
  "kernelspec": {
   "display_name": "chatbot",
   "language": "python",
   "name": "python3"
  },
  "language_info": {
   "codemirror_mode": {
    "name": "ipython",
    "version": 3
   },
   "file_extension": ".py",
   "mimetype": "text/x-python",
   "name": "python",
   "nbconvert_exporter": "python",
   "pygments_lexer": "ipython3",
   "version": "3.10.13"
  }
 },
 "nbformat": 4,
 "nbformat_minor": 2
}
