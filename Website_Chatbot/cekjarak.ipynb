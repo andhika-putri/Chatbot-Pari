{
 "cells": [
  {
   "cell_type": "code",
   "execution_count": 8,
   "metadata": {},
   "outputs": [],
   "source": [
    "import math"
   ]
  },
  {
   "cell_type": "code",
   "execution_count": 9,
   "metadata": {},
   "outputs": [],
   "source": [
    "# Mendefinisikan koordinat latitude dan longitude untuk tempat-tempat populer\n",
    "lokasi_populer = {\n",
    "    \"Jalan Malioboro\": (-7.7928, 110.3658),\n",
    "    # Tambahkan lokasi lain jika diperlukan\n",
    "}"
   ]
  },
  {
   "cell_type": "code",
   "execution_count": 10,
   "metadata": {},
   "outputs": [],
   "source": [
    "# Mendefinisikan koordinat latitude dan longitude untuk 10 tempat wisata\n",
    "tempat_wisata = {\n",
    "    \"Keraton Kotagede\": (-7.8222, 110.4083),\n",
    "    \"Keraton Ngayogyakarta Hadiningrat\": (-7.8061, 110.3649),\n",
    "    \"Situs Taman Sari\": (-7.8101, 110.3598),\n",
    "    \"Situs Warungboto\": (-7.8105, 110.3913),\n",
    "    \"Kelenteng Fuk Ling Miau\": (-7.8172, 110.3624),\n",
    "    \"Panggung Krapyak\": (-7.8181, 110.3542),\n",
    "    \"Museum Benteng Vredeburg\": (-7.7972, 110.3665),\n",
    "    \"Monumen Yogya Kembali\": (-7.7485, 110.3775),\n",
    "    \"Monumen Serangan Umum Sebelas Maret\": (-7.7829, 110.3678),\n",
    "    \"Museum Kereta\": (-7.8065, 110.3599)\n",
    "}"
   ]
  },
  {
   "cell_type": "code",
   "execution_count": 11,
   "metadata": {},
   "outputs": [],
   "source": [
    "# Fungsi untuk menghitung jarak menggunakan formula Haversine\n",
    "def haversine(lat1, lon1, lat2, lon2):\n",
    "    R = 6371  # Radius Bumi dalam kilometer\n",
    "    dLat = math.radians(lat2 - lat1)\n",
    "    dLon = math.radians(lon2 - lon1)\n",
    "    a = math.sin(dLat/2)**2 + math.cos(math.radians(lat1)) * math.cos(math.radians(lat2)) * math.sin(dLon/2)**2\n",
    "    c = 2 * math.atan2(math.sqrt(a), math.sqrt(1-a))\n",
    "    distance = R * c\n",
    "    return distance"
   ]
  },
  {
   "cell_type": "code",
   "execution_count": 12,
   "metadata": {},
   "outputs": [],
   "source": [
    "# Fungsi untuk mengonversi nama tempat menjadi koordinat\n",
    "def cari_koordinat_tempat(nama_tempat):\n",
    "    return lokasi_populer.get(nama_tempat)"
   ]
  },
  {
   "cell_type": "code",
   "execution_count": 13,
   "metadata": {},
   "outputs": [],
   "source": [
    "# Menghitung jarak dari Jalan Malioboro ke setiap tempat wisata\n",
    "jarak_ke_tempat_wisata = {}\n",
    "for nama_tempat, koordinat in tempat_wisata.items():\n",
    "    jarak = haversine(user_lat, user_lon, koordinat[0], koordinat[1])\n",
    "    jarak_ke_tempat_wisata[nama_tempat] = jarak"
   ]
  },
  {
   "cell_type": "code",
   "execution_count": 14,
   "metadata": {},
   "outputs": [],
   "source": [
    "# Fungsi utama untuk menghitung jarak dari tempat yang dimasukkan pengguna\n",
    "def hitung_jarak_dari_tempat(nama_tempat_input):\n",
    "    koordinat = cari_koordinat_tempat(nama_tempat_input)\n",
    "    if koordinat:\n",
    "        user_lat, user_lon = koordinat\n",
    "        jarak_ke_tempat_wisata = {}\n",
    "        for nama_tempat, koordinat in tempat_wisata.items():\n",
    "            jarak = haversine(user_lat, user_lon, koordinat[0], koordinat[1])\n",
    "            jarak_ke_tempat_wisata[nama_tempat] = jarak\n",
    "        return jarak_ke_tempat_wisata\n",
    "    else:\n",
    "        return None"
   ]
  },
  {
   "cell_type": "code",
   "execution_count": 15,
   "metadata": {},
   "outputs": [
    {
     "name": "stdout",
     "output_type": "stream",
     "text": [
      "Tempat Wisata: Museum Benteng Vredeburg, Jarak: 0.50 km\n",
      "Tempat Wisata: Monumen Serangan Umum Sebelas Maret, Jarak: 1.12 km\n",
      "Tempat Wisata: Keraton Ngayogyakarta Hadiningrat, Jarak: 1.48 km\n",
      "Tempat Wisata: Museum Kereta, Jarak: 1.66 km\n",
      "Tempat Wisata: Situs Taman Sari, Jarak: 2.03 km\n",
      "Tempat Wisata: Kelenteng Fuk Ling Miau, Jarak: 2.74 km\n",
      "Tempat Wisata: Panggung Krapyak, Jarak: 3.09 km\n",
      "Tempat Wisata: Situs Warungboto, Jarak: 3.43 km\n",
      "Tempat Wisata: Monumen Yogya Kembali, Jarak: 5.09 km\n",
      "Tempat Wisata: Keraton Kotagede, Jarak: 5.71 km\n"
     ]
    }
   ],
   "source": [
    "\n",
    "# Contoh penggunaan\n",
    "nama_tempat_input = \"Jalan Malioboro\"  # Nama tempat dari pengguna\n",
    "jarak_ke_tempat_wisata = hitung_jarak_dari_tempat(nama_tempat_input)\n",
    "\n",
    "if jarak_ke_tempat_wisata:\n",
    "    # Menampilkan 10 tempat wisata terdekat\n",
    "    tempat_wisata_terdekat = sorted(jarak_ke_tempat_wisata, key=jarak_ke_tempat_wisata.get)[:10]\n",
    "    for tempat in tempat_wisata_terdekat:\n",
    "        print(f\"Tempat Wisata: {tempat}, Jarak: {jarak_ke_tempat_wisata[tempat]:.2f} km\")\n",
    "else:\n",
    "    print(\"Nama tempat tidak ditemukan.\")"
   ]
  },
  {
   "cell_type": "code",
   "execution_count": null,
   "metadata": {},
   "outputs": [],
   "source": [
    "# Fungsi untuk mengonversi nama tempat menjadi koordinat\n",
    "def cari_koordinat_tempat(nama_tempat):\n",
    "    return lokasi_populer.get(nama_tempat)\n",
    "\n",
    "# Fungsi untuk menghitung jarak tempat wisata terdekat dari nama tempat\n",
    "def hitung_jarak_dari_tempat(nama_tempat_input):\n",
    "    koordinat = cari_koordinat_tempat(nama_tempat_input)\n",
    "    if koordinat:\n",
    "        user_lat, user_lon = koordinat\n",
    "        jarak_ke_tempat_wisata = {}\n",
    "        for nama_tempat, koordinat in tempat_wisata.items():\n",
    "             # lat1, lon1, lat2, lon2\n",
    "             #(user_lat, user_lon, koordinat[0], koordinat[1])\n",
    "            R = 6371  # Radius Bumi dalam kilometer\n",
    "            dLat = math.radians(koordinat[0] - user_lat)#lat2 - lat1 \n",
    "            dLon = math.radians(koordinat[1] - user_lon)#lon2 - lon1\n",
    "            a = math.sin(dLat/2)**2 + math.cos(math.radians(user_lat)) * math.cos(math.radians(koordinat[0])) * math.sin(dLon/2)**2\n",
    "            c = 2 * math.atan2(math.sqrt(a), math.sqrt(1-a))\n",
    "            distance = R * c\n",
    "            jarak_ke_tempat_wisata[nama_tempat] = distance\n",
    "        return min(jarak_ke_tempat_wisata, key=jarak_ke_tempat_wisata.get), min(jarak_ke_tempat_wisata.values())\n",
    "    else:\n",
    "        return None, None\n"
   ]
  },
  {
   "cell_type": "code",
   "execution_count": 1,
   "metadata": {},
   "outputs": [],
   "source": [
    "import streamlit as st\n",
    "import math\n",
    "from jarak_logic import hitung_jarak_dari_tempat\n",
    "import pandas as pd\n",
    "\n",
    "# Mendefinisikan koordinat untuk tempat-tempat populer\n",
    "lokasi_populer = {\n",
    "    \"Jalan Malioboro\": (-7.7928, 110.3658), \n",
    "    \"Prawirotaman\": (-7.8190, 110.3706),  \n",
    "    \"Alun-Alun Kidul\": (-7.8117, 110.3632),  \n",
    "    \"Alun-Alun Lor\" : (-7.8036, 110.3643),\n",
    "    \"Tugu Yogyakarta\": (-7.7828, 110.3670), \n",
    "    \"Pasar Beringharjo\": (-7.7985, 110.3657),\n",
    "    \"Museum Affandi\" : (-7.7826, 110.3964),\n",
    "    \"Kebun Binatang Gembira Loka\" : (-7.8059, 110.3966),\n",
    "    \"Jogja National Museum\" : (-7.7998, 110.3533),\n",
    "    \"Titik Nol Kilometer\" : (-7.8011, 110.3647),\n",
    "    \"Taman Pintar Yogyakarta\" : (-7.8004, 110.3676),\n",
    "    \"Jalan Sosrowijayan\" : (-7.7913, 110.3637),\n",
    "    \"Jalan Prawirotaman II\" : (-7.8200, 110.3707),\n",
    "    \"Stasiun Tugu Yogyakarta\" : (-7.7890, 110.3629), \n",
    "    \"Jalan Kaliurang\" : (-7.7110, 110.4082),\n",
    "    \"Jalan Magelang\" : (-7.7418, 110.3626),\n",
    "    \"Jalan Solo\" : (-7.7667, 110.4715),\n",
    "    \"Jalan Affandi\" : (-7.7694, 110.3901),\n",
    "    \"Stasiun Lempuyangan\" : (-7.7902, 110.3754),\n",
    "    \"Bandara Adisucipto\" : (-7.7887, 110.4305)\n",
    "}\n",
    "\n",
    "# Mendefinisikan koordinat untuk tempat wisata\n",
    "tempat_wisata = {\n",
    "    \"Keraton Kotagede\": (-7.8222, 110.4083),\n",
    "    \"Keraton Ngayogyakarta Hadiningrat\": (-7.8061, 110.3649),\n",
    "    \"Situs Taman Sari\": (-7.8101, 110.3598),\n",
    "    \"Situs Warungboto\": (-7.8105, 110.3913),\n",
    "    \"Kelenteng Fuk Ling Miau\": (-7.8172, 110.3624),\n",
    "    \"Panggung Krapyak\": (-7.8181, 110.3542),\n",
    "    \"Museum Benteng Vredeburg\": (-7.7972, 110.3665),\n",
    "    \"Monumen Yogya Kembali\": (-7.7485, 110.3775),\n",
    "    \"Monumen Serangan Umum Sebelas Maret\": (-7.7829, 110.3678),\n",
    "    \"Museum Kereta\": (-7.8065, 110.3599)\n",
    "}\n",
    "\n",
    "# Fungsi untuk mengonversi nama tempat menjadi koordinat\n",
    "def cari_koordinat_tempat(nama_tempat):\n",
    "    return lokasi_populer.get(nama_tempat)\n",
    "\n",
    "# Fungsi untuk menghitung jarak tempat wisata terdekat dari nama tempat\n",
    "def hitung_jarak(nama_tempat_input):\n",
    "    koordinat = cari_koordinat_tempat(nama_tempat_input)\n",
    "    if koordinat:\n",
    "        user_lat, user_lon = koordinat\n",
    "        jarak_ke_tempat_wisata = {}\n",
    "        for nama_tempat, koordinat in tempat_wisata.items():\n",
    "             # lat1, lon1, lat2, lon2\n",
    "             #(user_lat, user_lon, koordinat[0], koordinat[1])\n",
    "            R = 6371  # Radius Bumi dalam kilometer\n",
    "            dLat = math.radians(koordinat[0] - user_lat)#lat2 - lat1 \n",
    "            dLon = math.radians(koordinat[1] - user_lon)#lon2 - lon1\n",
    "            a = math.sin(dLat/2)**2 + math.cos(math.radians(user_lat)) * math.cos(math.radians(koordinat[0])) * math.sin(dLon/2)**2\n",
    "            c = 2 * math.atan2(math.sqrt(a), math.sqrt(1-a))\n",
    "            distance = R * c\n",
    "            jarak_ke_tempat_wisata[nama_tempat] = distance\n",
    "        return min(jarak_ke_tempat_wisata, key=jarak_ke_tempat_wisata.get), min(jarak_ke_tempat_wisata.values())\n",
    "    else:\n",
    "        return None, None"
   ]
  },
  {
   "cell_type": "code",
   "execution_count": 2,
   "metadata": {},
   "outputs": [],
   "source": [
    "user_input = \"#cek Bandara Adisucipto\""
   ]
  },
  {
   "cell_type": "code",
   "execution_count": 3,
   "metadata": {},
   "outputs": [],
   "source": [
    "if user_input.startswith(\"#cek \"):\n",
    "        actual_input2 = user_input[5:].strip()\n",
    "        tempat_terdekat, jarak = hitung_jarak(actual_input2)\n",
    "        if tempat_terdekat:\n",
    "            response2 = f\"Tempat wisata terdekat dari {actual_input2} adalah {tempat_terdekat} dengan jarak {jarak:.2f} km.\"\n",
    "        else:\n",
    "            response2 = \"Maaf, lokasi yang Anda masukkan tidak ditemukan.\""
   ]
  },
  {
   "cell_type": "code",
   "execution_count": 4,
   "metadata": {},
   "outputs": [
    {
     "name": "stdout",
     "output_type": "stream",
     "text": [
      "Tempat wisata terdekat dari Bandara Adisucipto adalah Keraton Kotagede dengan jarak 4.56 km.\n"
     ]
    }
   ],
   "source": [
    "print(response2)"
   ]
  },
  {
   "cell_type": "code",
   "execution_count": null,
   "metadata": {},
   "outputs": [],
   "source": [
    "# Fungsi untuk menghitung jarak tempat wisata terdekat dari nama tempat\n",
    "def hitung_jarak(nama_tempat_input):\n",
    "    koordinat = cari_koordinat_tempat(nama_tempat_input)\n",
    "    if koordinat:\n",
    "        user_lat, user_lon = koordinat\n",
    "        jarak_ke_tempat_wisata = {}\n",
    "        for nama_tempat, koordinat in tempat_wisata.items():\n",
    "             # lat1, lon1, lat2, lon2\n",
    "             #(user_lat, user_lon, koordinat[0], koordinat[1])\n",
    "            R = 6371  # Radius Bumi dalam kilometer\n",
    "            dLat = math.radians(koordinat[0] - user_lat)#lat2 - lat1 \n",
    "            dLon = math.radians(koordinat[1] - user_lon)#lon2 - lon1\n",
    "            a = math.sin(dLat/2)**2 + math.cos(math.radians(user_lat)) * math.cos(math.radians(koordinat[0])) * math.sin(dLon/2)**2\n",
    "            c = 2 * math.atan2(math.sqrt(a), math.sqrt(1-a))\n",
    "            distance = R * c\n",
    "            jarak_ke_tempat_wisata[nama_tempat] = distance\n",
    "        return min(jarak_ke_tempat_wisata, key=jarak_ke_tempat_wisata.get), min(jarak_ke_tempat_wisata.values())\n",
    "    else:\n",
    "        return None, None"
   ]
  }
 ],
 "metadata": {
  "kernelspec": {
   "display_name": "chatbot",
   "language": "python",
   "name": "python3"
  },
  "language_info": {
   "codemirror_mode": {
    "name": "ipython",
    "version": 3
   },
   "file_extension": ".py",
   "mimetype": "text/x-python",
   "name": "python",
   "nbconvert_exporter": "python",
   "pygments_lexer": "ipython3",
   "version": "3.10.13"
  }
 },
 "nbformat": 4,
 "nbformat_minor": 2
}
